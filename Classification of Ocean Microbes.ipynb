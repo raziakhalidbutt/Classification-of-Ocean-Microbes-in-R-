{
 "cells": [
  {
   "cell_type": "code",
   "execution_count": 17,
   "metadata": {},
   "outputs": [
    {
     "data": {
      "text/html": [
       "<table>\n",
       "<thead><tr><th scope=col>file_id</th><th scope=col>time</th><th scope=col>cell_id</th><th scope=col>d1</th><th scope=col>d2</th><th scope=col>fsc_small</th><th scope=col>fsc_perp</th><th scope=col>fsc_big</th><th scope=col>pe</th><th scope=col>chl_small</th><th scope=col>chl_big</th><th scope=col>pop</th></tr></thead>\n",
       "<tbody>\n",
       "\t<tr><td>203    </td><td>12     </td><td> 1     </td><td>25344  </td><td>27968  </td><td>34677  </td><td>14944  </td><td>32400  </td><td> 2216  </td><td>28237  </td><td> 5072  </td><td>pico   </td></tr>\n",
       "\t<tr><td>203    </td><td>12     </td><td> 4     </td><td>12960  </td><td>22144  </td><td>37275  </td><td>20440  </td><td>32400  </td><td> 1795  </td><td>36755  </td><td>14224  </td><td>ultra  </td></tr>\n",
       "\t<tr><td>203    </td><td>12     </td><td> 6     </td><td>21424  </td><td>23008  </td><td>31725  </td><td>11253  </td><td>32384  </td><td> 1901  </td><td>26640  </td><td>    0  </td><td>pico   </td></tr>\n",
       "\t<tr><td>203    </td><td>12     </td><td> 9     </td><td> 7712  </td><td>14528  </td><td>28744  </td><td>10219  </td><td>32416  </td><td> 1248  </td><td>35392  </td><td>10704  </td><td>ultra  </td></tr>\n",
       "\t<tr><td>203    </td><td>12     </td><td>11     </td><td>30368  </td><td>21440  </td><td>28861  </td><td> 6101  </td><td>32400  </td><td>12989  </td><td>23421  </td><td> 5920  </td><td>synecho</td></tr>\n",
       "\t<tr><td>203    </td><td>12     </td><td>15     </td><td>30032  </td><td>22704  </td><td>31221  </td><td>13488  </td><td>32400  </td><td> 1883  </td><td>27323  </td><td> 6560  </td><td>pico   </td></tr>\n",
       "</tbody>\n",
       "</table>\n"
      ],
      "text/latex": [
       "\\begin{tabular}{r|llllllllllll}\n",
       " file\\_id & time & cell\\_id & d1 & d2 & fsc\\_small & fsc\\_perp & fsc\\_big & pe & chl\\_small & chl\\_big & pop\\\\\n",
       "\\hline\n",
       "\t 203     & 12      &  1      & 25344   & 27968   & 34677   & 14944   & 32400   &  2216   & 28237   &  5072   & pico   \\\\\n",
       "\t 203     & 12      &  4      & 12960   & 22144   & 37275   & 20440   & 32400   &  1795   & 36755   & 14224   & ultra  \\\\\n",
       "\t 203     & 12      &  6      & 21424   & 23008   & 31725   & 11253   & 32384   &  1901   & 26640   &     0   & pico   \\\\\n",
       "\t 203     & 12      &  9      &  7712   & 14528   & 28744   & 10219   & 32416   &  1248   & 35392   & 10704   & ultra  \\\\\n",
       "\t 203     & 12      & 11      & 30368   & 21440   & 28861   &  6101   & 32400   & 12989   & 23421   &  5920   & synecho\\\\\n",
       "\t 203     & 12      & 15      & 30032   & 22704   & 31221   & 13488   & 32400   &  1883   & 27323   &  6560   & pico   \\\\\n",
       "\\end{tabular}\n"
      ],
      "text/markdown": [
       "\n",
       "| file_id | time | cell_id | d1 | d2 | fsc_small | fsc_perp | fsc_big | pe | chl_small | chl_big | pop |\n",
       "|---|---|---|---|---|---|---|---|---|---|---|---|\n",
       "| 203     | 12      |  1      | 25344   | 27968   | 34677   | 14944   | 32400   |  2216   | 28237   |  5072   | pico    |\n",
       "| 203     | 12      |  4      | 12960   | 22144   | 37275   | 20440   | 32400   |  1795   | 36755   | 14224   | ultra   |\n",
       "| 203     | 12      |  6      | 21424   | 23008   | 31725   | 11253   | 32384   |  1901   | 26640   |     0   | pico    |\n",
       "| 203     | 12      |  9      |  7712   | 14528   | 28744   | 10219   | 32416   |  1248   | 35392   | 10704   | ultra   |\n",
       "| 203     | 12      | 11      | 30368   | 21440   | 28861   |  6101   | 32400   | 12989   | 23421   |  5920   | synecho |\n",
       "| 203     | 12      | 15      | 30032   | 22704   | 31221   | 13488   | 32400   |  1883   | 27323   |  6560   | pico    |\n",
       "\n"
      ],
      "text/plain": [
       "  file_id time cell_id d1    d2    fsc_small fsc_perp fsc_big pe    chl_small\n",
       "1 203     12    1      25344 27968 34677     14944    32400    2216 28237    \n",
       "2 203     12    4      12960 22144 37275     20440    32400    1795 36755    \n",
       "3 203     12    6      21424 23008 31725     11253    32384    1901 26640    \n",
       "4 203     12    9       7712 14528 28744     10219    32416    1248 35392    \n",
       "5 203     12   11      30368 21440 28861      6101    32400   12989 23421    \n",
       "6 203     12   15      30032 22704 31221     13488    32400    1883 27323    \n",
       "  chl_big pop    \n",
       "1  5072   pico   \n",
       "2 14224   ultra  \n",
       "3     0   pico   \n",
       "4 10704   ultra  \n",
       "5  5920   synecho\n",
       "6  6560   pico   "
      ]
     },
     "metadata": {},
     "output_type": "display_data"
    }
   ],
   "source": [
    "#read the file\n",
    "seaflow <- read.csv(file='seaflow_21min.csv')\n",
    "head(seaflow)"
   ]
  },
  {
   "cell_type": "code",
   "execution_count": 12,
   "metadata": {},
   "outputs": [
    {
     "data": {
      "text/plain": [
       "    file_id           time          cell_id            d1       \n",
       " Min.   :203.0   Min.   : 12.0   Min.   :    0   Min.   : 1328  \n",
       " 1st Qu.:204.0   1st Qu.:174.0   1st Qu.: 7486   1st Qu.: 7296  \n",
       " Median :206.0   Median :362.0   Median :14995   Median :17728  \n",
       " Mean   :206.2   Mean   :341.5   Mean   :15008   Mean   :17039  \n",
       " 3rd Qu.:208.0   3rd Qu.:503.0   3rd Qu.:22401   3rd Qu.:24512  \n",
       " Max.   :209.0   Max.   :643.0   Max.   :32081   Max.   :54048  \n",
       "       d2          fsc_small        fsc_perp        fsc_big     \n",
       " Min.   :   32   Min.   :10005   Min.   :    0   Min.   :32384  \n",
       " 1st Qu.: 9584   1st Qu.:31341   1st Qu.:13496   1st Qu.:32400  \n",
       " Median :18512   Median :35483   Median :18069   Median :32400  \n",
       " Mean   :17437   Mean   :34919   Mean   :17646   Mean   :32405  \n",
       " 3rd Qu.:24656   3rd Qu.:39184   3rd Qu.:22243   3rd Qu.:32416  \n",
       " Max.   :54688   Max.   :65424   Max.   :63456   Max.   :32464  \n",
       "       pe          chl_small        chl_big           pop       \n",
       " Min.   :    0   Min.   : 3485   Min.   :    0   crypto :  102  \n",
       " 1st Qu.: 1635   1st Qu.:22525   1st Qu.: 2800   nano   :12698  \n",
       " Median : 2421   Median :30512   Median : 7744   pico   :20860  \n",
       " Mean   : 5325   Mean   :30164   Mean   : 8328   synecho:18146  \n",
       " 3rd Qu.: 5854   3rd Qu.:38299   3rd Qu.:12880   ultra  :20537  \n",
       " Max.   :58675   Max.   :64832   Max.   :57184                  "
      ]
     },
     "metadata": {},
     "output_type": "display_data"
    }
   ],
   "source": [
    "# summarize the data\n",
    "#overall counts for each category of particle\n",
    "summary(seaflow)"
   ]
  },
  {
   "cell_type": "code",
   "execution_count": 20,
   "metadata": {},
   "outputs": [],
   "source": [
    "#Split the data into test and training sets\n",
    "train_index <- sample(1:nrow(seaflow), 0.8 * nrow(seaflow))\n",
    "test_index <- setdiff(1:nrow(seaflow), train_index)"
   ]
  },
  {
   "cell_type": "code",
   "execution_count": 74,
   "metadata": {},
   "outputs": [],
   "source": [
    "X_train <- seaflow[train_index,-13]\n",
    "y_train <- seaflow[train_index, \"pop\"]\n",
    "\n",
    "X_test <- seaflow[test_index, -13]\n",
    "y_text <- seaflow[train_index, \"pop\"]"
   ]
  },
  {
   "cell_type": "code",
   "execution_count": 75,
   "metadata": {},
   "outputs": [
    {
     "data": {
      "text/plain": [
       "    file_id           time          cell_id            d1       \n",
       " Min.   :203.0   Min.   : 12.0   Min.   :    0   Min.   : 1328  \n",
       " 1st Qu.:204.0   1st Qu.:174.0   1st Qu.: 7507   1st Qu.: 7280  \n",
       " Median :206.0   Median :360.0   Median :15057   Median :17680  \n",
       " Mean   :206.1   Mean   :340.9   Mean   :15036   Mean   :17015  \n",
       " 3rd Qu.:208.0   3rd Qu.:502.0   3rd Qu.:22436   3rd Qu.:24480  \n",
       " Max.   :209.0   Max.   :643.0   Max.   :32081   Max.   :54048  \n",
       "       d2          fsc_small        fsc_perp        fsc_big     \n",
       " Min.   :   32   Min.   :10005   Min.   :    0   Min.   :32384  \n",
       " 1st Qu.: 9568   1st Qu.:31333   1st Qu.:13475   1st Qu.:32400  \n",
       " Median :18480   Median :35466   Median :18059   Median :32400  \n",
       " Mean   :17418   Mean   :34903   Mean   :17629   Mean   :32405  \n",
       " 3rd Qu.:24656   3rd Qu.:39152   3rd Qu.:22232   3rd Qu.:32416  \n",
       " Max.   :54688   Max.   :65424   Max.   :63456   Max.   :32464  \n",
       "       pe          chl_small        chl_big           pop       \n",
       " Min.   :    0   Min.   : 3485   Min.   :    0   crypto :   82  \n",
       " 1st Qu.: 1637   1st Qu.:22536   1st Qu.: 2832   nano   :10117  \n",
       " Median : 2416   Median :30539   Median : 7744   pico   :16764  \n",
       " Mean   : 5323   Mean   :30176   Mean   : 8337   synecho:14439  \n",
       " 3rd Qu.: 5843   3rd Qu.:38315   3rd Qu.:12880   ultra  :16472  \n",
       " Max.   :58675   Max.   :64808   Max.   :57184                  "
      ]
     },
     "metadata": {},
     "output_type": "display_data"
    }
   ],
   "source": [
    "summary(X_train)"
   ]
  },
  {
   "cell_type": "code",
   "execution_count": 76,
   "metadata": {},
   "outputs": [
    {
     "data": {
      "image/png": "[encoded data removed]",
      "text/plain": [
       "plot without title"
      ]
     },
     "metadata": {},
     "output_type": "display_data"
    }
   ],
   "source": [
    "# Plot the data pe against chl_small and color by pop\n",
    "library(ggplot2)\n",
    "ggplot(seaflow, aes(x=pe, y=chl_small,color=pop)) +geom_point()\n",
    "# ultra appear to be somewhat \"mixed\" with two other populations of particles"
   ]
  },
  {
   "cell_type": "code",
   "execution_count": 97,
   "metadata": {},
   "outputs": [
    {
     "name": "stdout",
     "output_type": "stream",
     "text": [
      "n= 57874 \n",
      "\n",
      "node), split, n, loss, yval, (yprob)\n",
      "      * denotes terminal node\n",
      "\n",
      " 1) root 57874 41110 pico (0.0014 0.17 0.29 0.25 0.28)  \n",
      "   2) pe< 5004 42201 25517 pico (0 0.22 0.4 4.7e-05 0.38)  \n",
      "     4) chl_small< 32164 18204  3081 pico (0 0.00016 0.83 0.00011 0.17) *\n",
      "     5) chl_small>=32164 23997 10837 ultra (0 0.39 0.065 0 0.55)  \n",
      "      10) chl_small>=41297.5 8287  1071 nano (0 0.87 0.00012 0 0.13) *\n",
      "      11) chl_small< 41297.5 15710  3620 ultra (0 0.13 0.099 0 0.77) *\n",
      "   3) pe>=5004 15673  1236 synecho (0.0052 0.053 0.0051 0.92 0.015)  \n",
      "     6) chl_small>=38255 1027   210 nano (0.08 0.8 0 0.06 0.064) *\n",
      "     7) chl_small< 38255 14646   271 synecho (0 0.0014 0.0055 0.98 0.012) *\n"
     ]
    }
   ],
   "source": [
    "#Train a decision tree\n",
    "library(rpart)\n",
    "\n",
    "fol <- formula(pop ~ fsc_small + fsc_perp + fsc_big + pe + chl_big + chl_small)\n",
    "\n",
    "model <- rpart(fol, method=\"class\", data=X_train)\n",
    "\n",
    "print(model)"
   ]
  },
  {
   "cell_type": "code",
   "execution_count": 98,
   "metadata": {},
   "outputs": [
    {
     "data": {
      "text/html": [
       "0.855207685396365"
      ],
      "text/latex": [
       "0.855207685396365"
      ],
      "text/markdown": [
       "0.855207685396365"
      ],
      "text/plain": [
       "[1] 0.8552077"
      ]
     },
     "metadata": {},
     "output_type": "display_data"
    }
   ],
   "source": [
    "#Evaluate the decision tree on the test data.\n",
    "\n",
    "pred <- predict(model, newdata=X_test, type=\"class\")\n",
    "\n",
    "count <- pred == X_test$pop\n",
    "\n",
    "accuracy <- sum(count)/length(count)\n",
    "\n",
    "accuracy"
   ]
  },
  {
   "cell_type": "code",
   "execution_count": 99,
   "metadata": {},
   "outputs": [
    {
     "data": {
      "text/html": [
       "0.920035938903863"
      ],
      "text/latex": [
       "0.920035938903863"
      ],
      "text/markdown": [
       "0.920035938903863"
      ],
      "text/plain": [
       "[1] 0.9200359"
      ]
     },
     "metadata": {},
     "output_type": "display_data"
    }
   ],
   "source": [
    "#Build and evaluate a random forest.\n",
    "#install.packages(\"randomForest\")\n",
    "library(randomForest)\n",
    "model_RF <- randomForest(fol, data=X_train)\n",
    "\n",
    "pred_RF <- predict(model_RF, newdata=X_test, type=\"class\")\n",
    "\n",
    "correct_pred <- pred_RF == X_test$pop\n",
    "\n",
    "acc_RF <- sum(correct_pred)/length(correct_pred)\n",
    "\n",
    "acc_RF"
   ]
  },
  {
   "cell_type": "code",
   "execution_count": 100,
   "metadata": {},
   "outputs": [
    {
     "data": {
      "text/html": [
       "<table>\n",
       "<thead><tr><th></th><th scope=col>MeanDecreaseGini</th></tr></thead>\n",
       "<tbody>\n",
       "\t<tr><th scope=row>fsc_small</th><td> 4261.0631</td></tr>\n",
       "\t<tr><th scope=row>fsc_perp</th><td> 3291.4179</td></tr>\n",
       "\t<tr><th scope=row>fsc_big</th><td>  322.3966</td></tr>\n",
       "\t<tr><th scope=row>pe</th><td>14075.1308</td></tr>\n",
       "\t<tr><th scope=row>chl_big</th><td> 7713.5544</td></tr>\n",
       "\t<tr><th scope=row>chl_small</th><td>13289.6579</td></tr>\n",
       "</tbody>\n",
       "</table>\n"
      ],
      "text/latex": [
       "\\begin{tabular}{r|l}\n",
       "  & MeanDecreaseGini\\\\\n",
       "\\hline\n",
       "\tfsc\\_small &  4261.0631\\\\\n",
       "\tfsc\\_perp &  3291.4179\\\\\n",
       "\tfsc\\_big &   322.3966\\\\\n",
       "\tpe & 14075.1308\\\\\n",
       "\tchl\\_big &  7713.5544\\\\\n",
       "\tchl\\_small & 13289.6579\\\\\n",
       "\\end{tabular}\n"
      ],
      "text/markdown": [
       "\n",
       "| <!--/--> | MeanDecreaseGini |\n",
       "|---|---|\n",
       "| fsc_small |  4261.0631 |\n",
       "| fsc_perp |  3291.4179 |\n",
       "| fsc_big |   322.3966 |\n",
       "| pe | 14075.1308 |\n",
       "| chl_big |  7713.5544 |\n",
       "| chl_small | 13289.6579 |\n",
       "\n"
      ],
      "text/plain": [
       "          MeanDecreaseGini\n",
       "fsc_small  4261.0631      \n",
       "fsc_perp   3291.4179      \n",
       "fsc_big     322.3966      \n",
       "pe        14075.1308      \n",
       "chl_big    7713.5544      \n",
       "chl_small 13289.6579      "
      ]
     },
     "metadata": {},
     "output_type": "display_data"
    }
   ],
   "source": [
    "#The function importance(model) prints the mean decrease in gini importance for each variable\n",
    "importance(model_RF)"
   ]
  },
  {
   "cell_type": "code",
   "execution_count": 101,
   "metadata": {},
   "outputs": [
    {
     "data": {
      "text/html": [
       "0.919137466307278"
      ],
      "text/latex": [
       "0.919137466307278"
      ],
      "text/markdown": [
       "0.919137466307278"
      ],
      "text/plain": [
       "[1] 0.9191375"
      ]
     },
     "metadata": {},
     "output_type": "display_data"
    }
   ],
   "source": [
    "#Train a support vector machine model and compare results.\n",
    "#install.packages(\"e1071\")\n",
    "library(e1071)\n",
    "\n",
    "model_svm <- svm(fol, data=X_train)\n",
    "\n",
    "pred_svm <- predict(model_svm, newdata=X_test, type=\"class\")\n",
    "\n",
    "correct_pred_svm <- pred_svm == X_test$pop\n",
    "\n",
    "acc_svm <- sum(correct_pred_svm)/length(correct_pred_svm)\n",
    "\n",
    "acc_svm"
   ]
  },
  {
   "cell_type": "code",
   "execution_count": 104,
   "metadata": {},
   "outputs": [],
   "source": [
    "#Construct confusion matrices\n",
    "cm_tree <- table(tree = pred, true = X_test$pop)\n",
    "cm_rf <- table(RF = pred_RF, true = X_test$pop)\n",
    "cm_svm <- table(svm = pred_svm, true = X_test$pop)"
   ]
  },
  {
   "cell_type": "code",
   "execution_count": 105,
   "metadata": {},
   "outputs": [
    {
     "data": {
      "text/plain": [
       "         true\n",
       "tree      crypto nano pico synecho ultra\n",
       "  crypto       0    0    0       0     0\n",
       "  nano        20 2030    0      15   271\n",
       "  pico         0    1 3710       0   815\n",
       "  synecho      0    6   12    3692    37\n",
       "  ultra        0  544  374       0  2942"
      ]
     },
     "metadata": {},
     "output_type": "display_data"
    }
   ],
   "source": [
    "cm_tree"
   ]
  },
  {
   "cell_type": "code",
   "execution_count": 106,
   "metadata": {},
   "outputs": [
    {
     "data": {
      "text/plain": [
       "         true\n",
       "RF        crypto nano pico synecho ultra\n",
       "  crypto      20    0    0       0     0\n",
       "  nano         0 2239    0       2   124\n",
       "  pico         0    0 3962       0   552\n",
       "  synecho      0    1    2    3705     3\n",
       "  ultra        0  341  132       0  3386"
      ]
     },
     "metadata": {},
     "output_type": "display_data"
    }
   ],
   "source": [
    "cm_rf"
   ]
  },
  {
   "cell_type": "code",
   "execution_count": 107,
   "metadata": {},
   "outputs": [
    {
     "data": {
      "text/plain": [
       "         true\n",
       "svm       crypto nano pico synecho ultra\n",
       "  crypto      18    0    0       0     0\n",
       "  nano         2 2274    0       1   136\n",
       "  pico         0    0 3931       7   548\n",
       "  synecho      0    0   25    3699     4\n",
       "  ultra        0  307  140       0  3377"
      ]
     },
     "metadata": {},
     "output_type": "display_data"
    }
   ],
   "source": [
    "cm_svm"
   ]
  },
  {
   "cell_type": "code",
   "execution_count": null,
   "metadata": {},
   "outputs": [],
   "source": [
    "#Sanity check the data\n",
    "\n"
   ]
  },
  {
   "cell_type": "code",
   "execution_count": 108,
   "metadata": {},
   "outputs": [
    {
     "data": {
      "image/png": "[encoded data removed]",
      "text/plain": [
       "plot without title"
      ]
     },
     "metadata": {},
     "output_type": "display_data"
    }
   ],
   "source": [
    "#Plot time vs. chl_big\n",
    "ggplot(seaflow, aes(x=time, y=chl_big,color=pop)) +geom_point()"
   ]
  },
  {
   "cell_type": "code",
   "execution_count": 115,
   "metadata": {},
   "outputs": [
    {
     "data": {
      "text/html": [
       "0.0499517853708528"
      ],
      "text/latex": [
       "0.0499517853708528"
      ],
      "text/markdown": [
       "0.0499517853708528"
      ],
      "text/plain": [
       "[1] 0.04995179"
      ]
     },
     "metadata": {},
     "output_type": "display_data"
    }
   ],
   "source": [
    "#install.packages('caret')\n",
    "library(caret)\n",
    "data_clean <- seaflow[seaflow$file_id != 208,]\n",
    "trainIndices_clean <- createDataPartition(data_clean$file_id, p=.8, list=FALSE, times=1)\n",
    "dataTrain_clean <- data_clean[ trainIndices_clean,]\n",
    "dataTest_clean  <- data_clean[-trainIndices_clean,]\n",
    "\n",
    "model_svm_clean <- svm(fol, data=dataTrain_clean)\n",
    "preds_svm_clean <- predict(model_svm_clean, newdata=dataTest_clean, type=\"class\")\n",
    "ab <- preds_svm_clean == dataTest_clean$pop\n",
    "accuracy_svm_clean <- sum(ab) / length(ab)\n",
    "\n",
    "improvement <- accuracy_svm_clean - acc_svm\n",
    "improvement"
   ]
  },
  {
   "cell_type": "code",
   "execution_count": null,
   "metadata": {},
   "outputs": [],
   "source": []
  }
 ],
 "metadata": {
  "kernelspec": {
   "display_name": "R",
   "language": "R",
   "name": "ir"
  },
  "language_info": {
   "codemirror_mode": "r",
   "file_extension": ".r",
   "mimetype": "text/x-r-source",
   "name": "R",
   "pygments_lexer": "r",
   "version": "3.6.1"
  }
 },
 "nbformat": 4,
 "nbformat_minor": 2
}
